{
  "nbformat": 4,
  "nbformat_minor": 0,
  "metadata": {
    "colab": {
      "name": "Practical Recursion Tutorial By Examples.ipynb",
      "provenance": [],
      "collapsed_sections": [],
      "toc_visible": true,
      "authorship_tag": "ABX9TyNqRdff7/FGrUgyQ+NpnBJC",
      "include_colab_link": true
    },
    "kernelspec": {
      "name": "python3",
      "display_name": "Python 3"
    },
    "language_info": {
      "name": "python"
    }
  },
  "cells": [
    {
      "cell_type": "markdown",
      "metadata": {
        "id": "view-in-github",
        "colab_type": "text"
      },
      "source": [
        "<a href=\"https://colab.research.google.com/github/idhamari/recursion-practical-tutorial/blob/main/Practical_Recursion_Tutorial_By_Examples.ipynb\" target=\"_parent\"><img src=\"https://colab.research.google.com/assets/colab-badge.svg\" alt=\"Open In Colab\"/></a>"
      ]
    },
    {
      "cell_type": "markdown",
      "source": [
        "# Introduction \n",
        "\n",
        "Recursion is one of the difficult topics for beginners in programming yet it is a very powerful tools that solves many challenging problems in a simple way.\n",
        "\n",
        "I will try to provides simple examples that can be traced easily. I will also refer to nice animations available in youtube as well. \n",
        "\n",
        "The goal is to add many examples to cover different situations. The python code will be simple and well commented so one can transfer it to other languages easily. \n",
        "\n",
        "If you have any comments, questions,or feedback, pleas feel free to add to the discussion page. \n",
        "\n",
        "\n",
        "**How to use:**\n",
        "\n",
        "- Create a google account if you don't have \n",
        "  - You can also download the python code or the notebook and run it locally if you have python or jupeter notebook installed. For this, select Data menu then Downloads.\n",
        "- Open the notebook in google colab\n",
        "- Select  Data menu then save a copy in drive. Then siwtch to the new saved notebook.\n",
        "- Select Run-time menu then Run all\n",
        "- Modify the code to learn more about it and do the tracing (this is important to understand how it works)\n",
        "- Add your feedback to the [discussion](https://github.com/iaBIH/RecursionPracticalTutorial/discussions/categories/q-a) section in github.\n",
        "- If you have time, contribute by adding more examples or notebooks\n",
        "- I appreciate [forking](https://docs.github.com/en/get-started/quickstart/fork-a-repo) and [starring](https://docs.github.com/en/get-started/exploring-projects-on-github/saving-repositories-with-stars) :)\n",
        "\n",
        "**Impoernat Note:**\n",
        "\n",
        "This is till uncomplete work, I will try to add more stuff when I have more free time!"
      ],
      "metadata": {
        "id": "jmGq5Rmw4Rl9"
      }
    },
    {
      "cell_type": "markdown",
      "source": [
        "# Prepare required tools"
      ],
      "metadata": {
        "id": "LLsRLoTN_-yr"
      }
    },
    {
      "cell_type": "code",
      "source": [
        "import json"
      ],
      "metadata": {
        "id": "Mk0y7MHU_--F"
      },
      "execution_count": 1,
      "outputs": []
    },
    {
      "cell_type": "markdown",
      "source": [
        "# Simple example: \n",
        "\n",
        "Let's start by a simple hellow world problem:print out numbers from n1 to n2 e.g. from 1 to 5\n",
        "\n",
        "I will show how to solve this problem using simple loops and using recursion (I am assuming you know basics of for and while loops) "
      ],
      "metadata": {
        "id": "hH9XXvMD4oMs"
      }
    },
    {
      "cell_type": "code",
      "source": [
        " n1 = 1\n",
        " n2 = 5\n",
        " print(\" ------------ for loop ----------\")\n",
        " for i in range(n1, n2 + 1):\n",
        "     print(i)\n",
        "\n",
        " print(\" ------------ while loop ----------\")\n",
        " i = n1\n",
        " while (i< n2 + 1):\n",
        "     print(i)\n",
        "     i+=1 \n",
        " \n",
        " print(\" ------------ recursion loop ----------\")\n",
        " def myRecursion (n1, n2):\n",
        "     if n1 > n2 :\n",
        "        return\n",
        "     else:\n",
        "       print(n1)\n",
        "       myRecursion (n1 + 1 , n2)   \n",
        "\n",
        "# call the function with initial values\n",
        "myRecursion(n1, n2)\n"
      ],
      "metadata": {
        "colab": {
          "base_uri": "https://localhost:8080/"
        },
        "id": "DD47kkrw5Blt",
        "outputId": "6b287173-97a4-4cf4-822a-a3373acfd24d"
      },
      "execution_count": 2,
      "outputs": [
        {
          "output_type": "stream",
          "name": "stdout",
          "text": [
            " ------------ for loop ----------\n",
            "1\n",
            "2\n",
            "3\n",
            "4\n",
            "5\n",
            " ------------ while loop ----------\n",
            "1\n",
            "2\n",
            "3\n",
            "4\n",
            "5\n",
            " ------------ recursion loop ----------\n",
            "1\n",
            "2\n",
            "3\n",
            "4\n",
            "5\n"
          ]
        }
      ]
    },
    {
      "cell_type": "markdown",
      "source": [
        "\n",
        "\n",
        "Another example: Modify the about code to print numbers from n2 to n1\n"
      ],
      "metadata": {
        "id": "Kqlql1Am4TOf"
      }
    },
    {
      "cell_type": "code",
      "execution_count": 3,
      "metadata": {
        "colab": {
          "base_uri": "https://localhost:8080/"
        },
        "id": "oNJomVoM4JaB",
        "outputId": "911a7282-5fcb-490e-beba-0d61473f0af2"
      },
      "outputs": [
        {
          "output_type": "stream",
          "name": "stdout",
          "text": [
            " ------------ for loop ----------\n",
            "5\n",
            "4\n",
            "3\n",
            "2\n",
            "1\n",
            " ------------ while loop ----------\n",
            "5\n",
            "4\n",
            "3\n",
            "2\n",
            "1\n",
            " ------------ recursion loop ----------\n",
            "5\n",
            "4\n",
            "3\n",
            "2\n",
            "1\n"
          ]
        }
      ],
      "source": [
        "n1 = 1\n",
        "n2 = 5\n",
        "print(\" ------------ for loop ----------\")\n",
        "for i in range(n1, n2 +1):\n",
        "     print(n2 + 1  - i)\n",
        "\n",
        "print(\" ------------ while loop ----------\")\n",
        "i = n1\n",
        "while (i< n2 + 1):\n",
        "     print(n2 + 1  - i)\n",
        "     i+=1 \n",
        "\n",
        "print(\" ------------ recursion loop ----------\")\n",
        "def myRecursion (n1, n2):\n",
        "     if n1 > n2 :\n",
        "        return\n",
        "     else:\n",
        "       myRecursion (n1 + 1 , n2)   \n",
        "       print(n1)\n",
        "\n",
        "# call the function with initial values\n",
        "myRecursion(n1, n2)\n"
      ]
    },
    {
      "cell_type": "markdown",
      "source": [
        "# Recursive Function Concept: \n",
        "\n",
        "In general, recursion function should look like this (there are more complex scenarios but this is the simple one): \n",
        "\n",
        "    function (recursion parameters):\n",
        "    \n",
        "        if (stopping condition)\n",
        "           do somthing one time\n",
        "           return\n",
        "        else: \n",
        "          do somthing1 // before recrsion   \n",
        "          recursion call \n",
        "          do something2 // after recursion \n",
        "\n",
        "Note that: \n",
        "\n",
        "* The recursion call must have parameters that reach the stopping condition or we get an infinit loop\n",
        "* do somthing1 will keeps repeating until we reach the stopping condition, after that do somthing2 will keep repeating the same number of times \n",
        "* The concept is the same in other programming languages\n",
        " \n",
        " Here is an example to show what happens if we print before and after the recursion: "
      ],
      "metadata": {
        "id": "JUR-klIE8ofb"
      }
    },
    {
      "cell_type": "code",
      "source": [
        "print(\" ------------ recursion loop ----------\")\n",
        "def myRecursion (n1, n2):\n",
        "     if n1 > n2 :\n",
        "        print(\"xxx complete xxx\") \n",
        "        return\n",
        "     else:\n",
        "       print(\"before: \" , n1)\n",
        "       myRecursion (n1 + 1 , n2)   \n",
        "       print(\"after : \" , n1)\n",
        "\n",
        "# call the function with initial values\n",
        "myRecursion(n1, n2)\n"
      ],
      "metadata": {
        "colab": {
          "base_uri": "https://localhost:8080/"
        },
        "id": "Ex1q9F8V-YRr",
        "outputId": "e7e3cb69-0c2d-4899-9b4a-fe028f152bbb"
      },
      "execution_count": 4,
      "outputs": [
        {
          "output_type": "stream",
          "name": "stdout",
          "text": [
            " ------------ recursion loop ----------\n",
            "before:  1\n",
            "before:  2\n",
            "before:  3\n",
            "before:  4\n",
            "before:  5\n",
            "xxx complete xxx\n",
            "after :  5\n",
            "after :  4\n",
            "after :  3\n",
            "after :  2\n",
            "after :  1\n"
          ]
        }
      ]
    },
    {
      "cell_type": "markdown",
      "source": [
        "# How recursion works: \n",
        "\n",
        "The idea is to push and pop values to a memory stack. here is a nice video that explain the idea: \n",
        "\n",
        "Here is an example to convert the above recursion function to a simple loop with a stack:"
      ],
      "metadata": {
        "id": "GbFXguRGAGDk"
      }
    },
    {
      "cell_type": "code",
      "source": [
        " print(\" ------------ recursion loop ----------\")\n",
        "def myRecursion (n1, n2):\n",
        "     if n1 > n2 :\n",
        "        print(\"xxx complete xxx\") \n",
        "        return\n",
        "     else:\n",
        "       print(\"before: \" , n1)\n",
        "       myRecursion (n1 + 1 , n2)   \n",
        "       print(\"after : \" , n1)\n",
        "\n",
        "# call the function with initial values\n",
        "myRecursion(n1, n2)\n",
        "\n",
        "print(\" ------------ using stack  ----------\")\n",
        "\n",
        "def myRecursion (n1, n2):\n",
        "     # create stack with initial parameters \n",
        "     myStack =[[n1,n2]]\n",
        "\n",
        "     # myStack[-1][0] the last element in stack -1, the first element which stores n1 updated value\n",
        "     while (len(myStack) > 0):\n",
        "          if (myStack[-1][0] > n2  ):\n",
        "              if (len(myStack) == myStack[-1][0]):            \n",
        "                 print(\"xxx complete xxx\")\n",
        "              myStack.pop(len(myStack)-1) \n",
        "              if  (len(myStack) > 0):\n",
        "                  print(\"after : \" , myStack[-1][0])   \n",
        "          else: #  (n1 < n2) \n",
        "              print(\"before: \" , myStack[-1][0])\n",
        "              myStack.append( [  myStack[-1][0] + 1 , n2 ] ) \n",
        "\n",
        "            \n",
        "\n",
        "# call the function with initial values\n",
        "# myRecursion(n1, n2)"
      ],
      "metadata": {
        "colab": {
          "base_uri": "https://localhost:8080/"
        },
        "id": "TeIyLNzAAdcW",
        "outputId": "e33fae42-e2da-4808-a553-26fe8323c3f4"
      },
      "execution_count": 5,
      "outputs": [
        {
          "output_type": "stream",
          "name": "stdout",
          "text": [
            " ------------ recursion loop ----------\n",
            "before:  1\n",
            "before:  2\n",
            "before:  3\n",
            "before:  4\n",
            "before:  5\n",
            "xxx complete xxx\n",
            "after :  5\n",
            "after :  4\n",
            "after :  3\n",
            "after :  2\n",
            "after :  1\n",
            " ------------ using stack  ----------\n"
          ]
        }
      ]
    },
    {
      "cell_type": "markdown",
      "source": [
        "## Fibonacci numbers problem\n",
        "\n",
        "The [Fibonacci](https://en.wikipedia.org/wiki/Fibonacci_number) numbers sequence can be generated by starting with 1,1, then add the previous two numbers to get the next number e.g. the first 7 numbers are: \n",
        "\n",
        "     Fib(7): 1, 1, 2, 3, 5, 8, 13 \n",
        "     2  = 1 + 1 \n",
        "     3  = 1 + 2 \n",
        "     5  = 2 + 3 \n",
        "     8  = 3 + 5 \n",
        "     13 = 5 + 8  \n",
        "\n",
        "Here is a [video animation](https://www.youtube.com/watch?v=BNeOE1qMyRA) to show how it works.\n",
        "\n",
        "Let's write a function that generate these numbers up to n "
      ],
      "metadata": {
        "id": "6QMJh2EKKxut"
      }
    },
    {
      "cell_type": "code",
      "source": [
        "n = 8\n",
        "\n",
        "print(\" ------------ while loop ----------\")\n",
        "fib = [1,1]\n",
        "i= 0 \n",
        "while (i< n - 2):\n",
        "       fib.append( fib[-2] + fib[-1] )\n",
        "       i+=1 \n",
        "print(fib)\n",
        "\n",
        "print(\" ------------ recursion loop ----------\")\n",
        "fib=[]\n",
        "\n",
        "# find the current number e.g. myFib(6) is 8\n",
        "# TODO: try to print inside \n",
        "def myFib (x):\n",
        "\n",
        "    # find current number\n",
        "    def getFib(n):\n",
        "        # stopping condition\n",
        "        if ( (n==1) or (n==2) ):\n",
        "          n = 1 \n",
        "        else:\n",
        "          n = getFib (n-1) + getFib(n-2)\n",
        "        return n    \n",
        "\n",
        "    # to find all numbers\n",
        "    if x< 1:\n",
        "       return  \n",
        "    else:      \n",
        "      myFib(x-1)\n",
        "      fib.append(getFib(x))\n",
        "\n",
        "myFib(n)\n",
        "print(fib)\n",
        " "
      ],
      "metadata": {
        "colab": {
          "base_uri": "https://localhost:8080/"
        },
        "id": "GH5Nw-dmMSW_",
        "outputId": "525bcbfa-0c83-4dc5-ed4f-21fd0113ed10"
      },
      "execution_count": 6,
      "outputs": [
        {
          "output_type": "stream",
          "name": "stdout",
          "text": [
            " ------------ while loop ----------\n",
            "[1, 1, 2, 3, 5, 8, 13, 21]\n",
            " ------------ recursion loop ----------\n",
            "[1, 1, 2, 3, 5, 8, 13, 21]\n"
          ]
        }
      ]
    },
    {
      "cell_type": "markdown",
      "source": [
        "# Solving some interested problems "
      ],
      "metadata": {
        "id": "6r34hiZ_ALto"
      }
    },
    {
      "cell_type": "markdown",
      "source": [
        "## Hanoi tower problem:\n",
        "\n",
        "Nice visualisation of the problem can be found [here](https://www.youtube.com/watch?v=rf6uf3jNjbo)"
      ],
      "metadata": {
        "id": "mgFgtrL8Sddr"
      }
    },
    {
      "cell_type": "code",
      "source": [
        " # Hanoi tower problem:"
      ],
      "metadata": {
        "id": "iRNn1EijSjOx"
      },
      "execution_count": 7,
      "outputs": []
    },
    {
      "cell_type": "markdown",
      "source": [
        "## Backtracking\n",
        "\n",
        "An example of [Backtracing](https://en.wikipedia.org/wiki/Backtracking) problem. "
      ],
      "metadata": {
        "id": "URbcOd4qTW1e"
      }
    },
    {
      "cell_type": "code",
      "source": [
        "# Backtracking"
      ],
      "metadata": {
        "id": "Wb32VeqATXDo"
      },
      "execution_count": 8,
      "outputs": []
    },
    {
      "cell_type": "markdown",
      "source": [
        "## Graph Traverse:  [Breadth First Search (BFS)](https://en.wikipedia.org/wiki/Breadth-first_search)\n",
        "\n"
      ],
      "metadata": {
        "id": "8KcC3VTOTkXQ"
      }
    },
    {
      "cell_type": "code",
      "source": [
        "# Breadth First Search (BFS)"
      ],
      "metadata": {
        "id": "VkZ9WB46Snyc"
      },
      "execution_count": 9,
      "outputs": []
    },
    {
      "cell_type": "markdown",
      "source": [
        "## Graph Traverse: [Depth First Search (DFS)](https://en.wikipedia.org/wiki/Depth-first_search)"
      ],
      "metadata": {
        "id": "FsDJe5nSSu31"
      }
    },
    {
      "cell_type": "code",
      "source": [
        "# Depth First Search (DFS)"
      ],
      "metadata": {
        "id": "z60_H5C9SvAB"
      },
      "execution_count": 10,
      "outputs": []
    },
    {
      "cell_type": "markdown",
      "source": [
        "## N-queen problem\n",
        "\n",
        "ref: https://www.youtube.com/watch?v=jPcBU0Z2Hj8\n"
      ],
      "metadata": {
        "id": "nFXpkzvJTpk3"
      }
    },
    {
      "cell_type": "code",
      "source": [
        "# N-queen problem"
      ],
      "metadata": {
        "id": "kCbiN2pgTs80"
      },
      "execution_count": 11,
      "outputs": []
    },
    {
      "cell_type": "markdown",
      "source": [
        "## Knight tour problem\n",
        "\n",
        "ref: https://www.youtube.com/watch?v=ab_dY3dZFHM"
      ],
      "metadata": {
        "id": "gBNfWbvTW5T_"
      }
    },
    {
      "cell_type": "code",
      "source": [
        "## Knight tour problem"
      ],
      "metadata": {
        "id": "I4XdmjQAW5eg"
      },
      "execution_count": 12,
      "outputs": []
    },
    {
      "cell_type": "markdown",
      "source": [
        "## [Lattice](https://en.wikipedia.org/wiki/Lattice_(order))\n",
        "\n",
        "Here is a nice [lattice library](https://github.com/prasser/*jhpl*) in java that generates lattice"
      ],
      "metadata": {
        "id": "ZrpQzwhMWAfd"
      }
    },
    {
      "cell_type": "code",
      "source": [
        "# Lattice"
      ],
      "metadata": {
        "id": "DB_90VgfWA0E"
      },
      "execution_count": 13,
      "outputs": []
    },
    {
      "cell_type": "markdown",
      "source": [
        "## Flatten Nested Data e.g. JSON\n",
        "Somtimes we need to convert a heirarichal structure e.g. JSON to a table and vice versa. Here is how we can solve this problem"
      ],
      "metadata": {
        "id": "JDlhsH3zT4pL"
      }
    },
    {
      "cell_type": "markdown",
      "source": [
        "### Create sample data"
      ],
      "metadata": {
        "id": "dN_wRN-gzfUC"
      }
    },
    {
      "cell_type": "markdown",
      "source": [
        "#### Simple nested data sample"
      ],
      "metadata": {
        "id": "bLoiWVHY9FVv"
      }
    },
    {
      "cell_type": "code",
      "source": [
        "# Create Sample data\n",
        "\n",
        "#example of simple nested data\n",
        "jsonData1 = \"\"\"\n",
        " {\n",
        "    \"USA\": {\n",
        "             \"NJ\"      : {\n",
        "                          \"Newark\"     : [\n",
        "                                          \"Jeremy\",\n",
        "                                          \"Stacey\"  \n",
        "                                         ]\n",
        "                         },\n",
        "             \"New York\": {\n",
        "                          \"Brooklyn\"   : \"David\",\n",
        "                          \"Mannhatten\" : \"Dan\"                       \n",
        "                         }\n",
        "           },\n",
        "    \"CAN\": {\n",
        "             \"MO\"      : \"Sarah\",\n",
        "             \"Toronto\" : {\n",
        "                          \"Yorkville\"  : \"Jessi\",\n",
        "                          \"Lib Vill\"   : \"Sam\"                            \n",
        "                         }\n",
        "           },\n",
        "    \"MEX\": {\n",
        "             \"Tulum\"      : \"Elsi\",\n",
        "             \"Berlin\"     : {\n",
        "                             \"AAA\"  : \"11\",\n",
        "                             \"BBB\"  : \"22\",\n",
        "                             \"CCC\"  : [\n",
        "                                          \"33\",\n",
        "                                          \"44\"  \n",
        "                                         ]                         \n",
        "                            }\n",
        "           }\n",
        "                        \n",
        "  }\n",
        "\"\"\"\n",
        "\n",
        "# Expected output: \n",
        "\n",
        "\"\"\"\n",
        "    USA > NJ > Newark > Jeremy\n",
        "    USA > NJ > Newark > Stacey\n",
        "    USA > New York > Brooklyn > David\n",
        "    USA > New York > Mannhatten > Dan\n",
        "    CAN > MO > Sarah\n",
        "    CAN > Toronto > Yorkville > Jessi\n",
        "    CAN > Toronto > Lib Vill > Sam\n",
        "    MEX > Tulum > Elsi\n",
        "    MEX > Berlin > AAA > 11\n",
        "    MEX > Berlin > BBB > 22\n",
        "    MEX > Berlin > CCC > 33\n",
        "    MEX > Berlin > CCC > 44\n",
        " \"\"\"\n",
        "# example of complicated nested data"
      ],
      "metadata": {
        "colab": {
          "base_uri": "https://localhost:8080/",
          "height": 53
        },
        "id": "R03p0btWzTlX",
        "outputId": "04b19867-0c93-4a70-f0ab-c088a78eea26"
      },
      "execution_count": 14,
      "outputs": [
        {
          "output_type": "execute_result",
          "data": {
            "text/plain": [
              "'\\n    USA > NJ > Newark > Jeremy\\n    USA > NJ > Newark > Stacey\\n    USA > New York > Brooklyn > David\\n    USA > New York > Mannhatten > Dan\\n    CAN > MO > Sarah\\n    CAN > Toronto > Yorkville > Jessi\\n    CAN > Toronto > Lib Vill > Sam\\n    MEX > Tulum > Elsi\\n    MEX > Berlin > AAA > 11\\n    MEX > Berlin > BBB > 22\\n    MEX > Berlin > CCC > 33\\n    MEX > Berlin > CCC > 44\\n '"
            ],
            "application/vnd.google.colaboratory.intrinsic+json": {
              "type": "string"
            }
          },
          "metadata": {},
          "execution_count": 14
        }
      ]
    },
    {
      "cell_type": "markdown",
      "source": [
        "#### Complicated nested data sample "
      ],
      "metadata": {
        "id": "_vI9N5moy8E6"
      }
    },
    {
      "cell_type": "code",
      "source": [
        "jsonData2 = \"\"\"\n",
        "[\n",
        "    {\n",
        "    \"Class\": \"ClassA\",\n",
        "             \"Persons\": [\n",
        "                           {\n",
        "                            \"ID\": \"11001\",\n",
        "                            \"Age\": \"26\",\n",
        "                            \"Gender\": \"M\",\n",
        "                            \"Info\": [\n",
        "                                        {\n",
        "                                            \"Label\": \"Physical\",\n",
        "                                            \"Info\": [\n",
        "                                                    {\n",
        "                                                    \"Label\": \"Appearance\",\n",
        "                                                    \"Information\": [\n",
        "                                                                    {\n",
        "                                                                    \"Label\": \"eye color\",\n",
        "                                                                    \"Value\": \"blue\"\n",
        "                                                                    },\n",
        "                                                                    {                                                                                        \n",
        "                                                                    \"Label\": \"height\",\n",
        "                                                                    \"unit\": \"cm\",\n",
        "                                                                    \"Value\": \"170\"\n",
        "                                                                    },                                                                                  \n",
        "                                                                    {                                                                                        \n",
        "                                                                    \"Label\": \"has glasses\",\n",
        "                                                                    \"Value\": \"false\"\n",
        "                                                                    },                                                                    \n",
        "                                                                    {                                                                                                                          \n",
        "                                                                    \"Label\": \"Weight\",\n",
        "                                                                    \"Information\": [\n",
        "                                                                                        {                                                                                     \n",
        "                                                                                        \"Date\": \"1.1.2022\",\n",
        "                                                                                        \"center\": \"center1\"\n",
        "                                                                                        },                                                                                  \n",
        "                                                                                        {                                                                                      \n",
        "                                                                                        \"unit\": \"kg\",\n",
        "                                                                                        \"Value\": \"80\"\n",
        "                                                                                        }\n",
        "                                                                                    ]\n",
        "                                                                    }\n",
        "                                                                    ]\n",
        "                                                        }\n",
        "                                                    ]\n",
        "                                        },\n",
        "                                        {\n",
        "                                        \"Label\": \"Others\",\n",
        "                                        \"Info\": [\n",
        "                                                    {\n",
        "                                                    \"Label\": \"Marks\",\n",
        "                                                    \"Information\": [\n",
        "                                                                    {\n",
        "                                                                    \"Label\": \"Swimming\",\n",
        "                                                                    \"Value\": \"10\"\n",
        "                                                                    },\n",
        "                                                                    {                                                                                        \n",
        "                                                                    \"Label\": \"Math\",\n",
        "                                                                    \"Value\": \"7\"\n",
        "                                                                    },                                                                                  \n",
        "                                                                    {                                                                                        \n",
        "                                                                    \"Label\": \"Language\",\n",
        "                                                                    \"Value\": \"5\"\n",
        "                                                                    }\n",
        "                                                                ]\n",
        "                                                        }\n",
        "                                                ]\n",
        "                                        }\n",
        "                                    ]    \n",
        "                        \n",
        "                    \n",
        "                            },\n",
        "                            {\n",
        "                             \"ID\": \"11002\",\n",
        "                             \"Age\": \"20\",\n",
        "                             \"Gender\": \"F\",\n",
        "                             \"Info\": [\n",
        "                                       {\n",
        "                                         \"Label\": \"Physical\",\n",
        "                                         \"Info\": [\n",
        "                                                    {\n",
        "                                                    \"Label\": \"Appearance\",\n",
        "                                                    \"Information\": [\n",
        "                                                                    {\n",
        "                                                                    \"Label\": \"eye color\",\n",
        "                                                                    \"Value\": \"brown\"\n",
        "                                                                    },\n",
        "                                                                    {                                                                                        \n",
        "                                                                    \"Label\": \"height\",\n",
        "                                                                    \"unit\": \"cm\",\n",
        "                                                                    \"Value\": \"160\"\n",
        "                                                                    },                                                                                  \n",
        "                                                                    {                                                                                        \n",
        "                                                                    \"Label\": \"has glasses\",\n",
        "                                                                    \"Value\": \"true\"\n",
        "                                                                    }                                                                  \n",
        "                                                                   ]\n",
        "                                                        }\n",
        "                                                 ]\n",
        "                                       },\n",
        "                                       {\n",
        "                                        \"Label\": \"Others\",\n",
        "                                        \"Info\": [\n",
        "                                                   {\n",
        "                                                   \"Label\": \"Marks\",\n",
        "                                                   \"Information\": [\n",
        "                                                                   {\n",
        "                                                                   \"Label\": \"Swimming\",\n",
        "                                                                   \"Value\": \"7\"\n",
        "                                                                   },\n",
        "                                                                   {                                                                                        \n",
        "                                                                   \"Label\": \"Math\",\n",
        "                                                                   \"Value\": \"10\"\n",
        "                                                                   },                                                                                  \n",
        "                                                                   {                                                                                        \n",
        "                                                                   \"Label\": \"Language\",\n",
        "                                                                   \"Value\": \"9\"\n",
        "                                                                   }\n",
        "                                                                ]\n",
        "                                                       }\n",
        "                                                ]\n",
        "                                      }\n",
        "                                     ]    \n",
        "                            }\n",
        "                        ]\n",
        "    },\n",
        "    {\n",
        "    \"Class\": \"ClassB\",\n",
        "             \"Persons\": [\n",
        "                    {\n",
        "                     \"ID\": \"11003\",\n",
        "                     \"Age\": \"40\",\n",
        "                     \"Gender\": \"F\",\n",
        "                     \"Info\": [\n",
        "                                 {\n",
        "                                     \"Label\": \"Physical\",\n",
        "                                     \"Info\": [\n",
        "                                             {\n",
        "                                             \"Label\": \"Appearance\",\n",
        "                                             \"Information\": [\n",
        "                                                             {\n",
        "                                                             \"Label\": \"eye color\",\n",
        "                                                             \"Value\": \"green\"\n",
        "                                                             },\n",
        "                                                             {                                                                                        \n",
        "                                                             \"Label\": \"height\",\n",
        "                                                             \"unit\": \"cm\",\n",
        "                                                             \"Value\": \"180\"\n",
        "                                                             },                                                                                  \n",
        "                                                             {                                                                                        \n",
        "                                                             \"Label\": \"has glasses\",\n",
        "                                                             \"Value\": \"false\"\n",
        "                                                             },                                                                    \n",
        "                                                             {                                                                                                                          \n",
        "                                                             \"Label\": \"Weight\",\n",
        "                                                             \"Information\": [\n",
        "                                                                                 {                                                                                     \n",
        "                                                                                 \"Date\": \"1.1.2020\",\n",
        "                                                                                 \"center\": \"center1\"\n",
        "                                                                                 },                                                                                  \n",
        "                                                                                 {                                                                                      \n",
        "                                                                                 \"unit\": \"kg\",\n",
        "                                                                                 \"Value\": \"60\"\n",
        "                                                                                 }\n",
        "                                                                             ]\n",
        "                                                             }\n",
        "                                                             ]\n",
        "                                                 }\n",
        "                                             ]\n",
        "                                 },\n",
        "                                 {\n",
        "                                 \"Label\": \"Others\",\n",
        "                                 \"Info\": [\n",
        "                                             {\n",
        "                                             \"Label\": \"Marks\",\n",
        "                                             \"Information\": [\n",
        "                                                             {\n",
        "                                                             \"Label\": \"Swimming\",\n",
        "                                                             \"Value\": \"5\"\n",
        "                                                             },\n",
        "                                                             {                                                                                        \n",
        "                                                             \"Label\": \"Math\",\n",
        "                                                             \"Value\": \"6\"\n",
        "                                                             },                                                                                  \n",
        "                                                             {                                                                                        \n",
        "                                                             \"Label\": \"Language\",\n",
        "                                                             \"Value\": \"10\"\n",
        "                                                             }\n",
        "                                                         ]\n",
        "                                                 }\n",
        "                                         ]\n",
        "                                 }\n",
        "                             ]    \n",
        "                 \n",
        "             \n",
        "                     }\n",
        "                    ]\n",
        "    }   \n",
        "]\n",
        "\"\"\"\n",
        "# Expected output, somthing like: \n",
        "\"\"\"\n",
        "  Class,     ID,     Age, Gender,          Labels,                      date,       location ,   value                                 \n",
        "  ClassA\", \"11001\", \"26\",  \"M\",\"  Physical > Appearance> eye color\",              ,          ,   \"blue\"\n",
        "  ClassA\", \"11001\", \"26\",  \"M\",  \"Physical > Appearance> height\",                 ,          ,   \"170\"\n",
        "  ClassA\", \"11001\", \"26\",  \"M\",  \"Physical > Appearance> has glasses\",            ,          ,   \"false\"\n",
        "  ClassA\", \"11001\", \"26\",  \"M\",  \"Physical > Appearance> Weight\",      \"1.1.2022\", \"center1\" ,   80\n",
        "\n",
        "\"\"\"\n",
        "print(\"data is generated!\")"
      ],
      "metadata": {
        "colab": {
          "base_uri": "https://localhost:8080/"
        },
        "id": "2QZ7EDNzy8N_",
        "outputId": "1d22e9cc-337e-41f1-a704-afcdb353c65d"
      },
      "execution_count": 15,
      "outputs": [
        {
          "output_type": "stream",
          "name": "stdout",
          "text": [
            "data is generated!\n"
          ]
        }
      ]
    },
    {
      "cell_type": "markdown",
      "source": [
        "### Flattening a simple nested data \n",
        "\n",
        "[Youtube source](https://www.youtube.com/watch?v=aUuleLd0lwM&list=PLxyxrvvxl20hNX15DBWbKxCkGFE4RkAcc&index=34)"
      ],
      "metadata": {
        "id": "UsVBnybCsrhs"
      }
    },
    {
      "cell_type": "code",
      "source": [
        "\n",
        "# read json data: \n",
        "\n",
        "def flattenJson(obj):\n",
        "  ret =[]\n",
        "  def flattenX(x, fkey=\"\"):\n",
        "      if type (x) is dict:\n",
        "        for ckey in x:\n",
        "            flattenX(x[ckey], fkey + ckey + ' > ')\n",
        "      elif type (x) is list:        \n",
        "          #i = 0\n",
        "          for elem in x:\n",
        "              flattenX(elem, fkey )\n",
        "      else: \n",
        "          # string, int, ..etc \n",
        "          ret.append(fkey + x)   \n",
        " \n",
        "  flattenX(obj)    \n",
        "  return ret     \n",
        "  \n"
      ],
      "metadata": {
        "id": "GKdw7VsPsrvk"
      },
      "execution_count": 16,
      "outputs": []
    },
    {
      "cell_type": "code",
      "source": [
        "nestedData1 = json.loads(jsonData1)\n",
        "tbl = flattenJson(nestedData1)\n",
        "for x in tbl: \n",
        "    print(x)"
      ],
      "metadata": {
        "colab": {
          "base_uri": "https://localhost:8080/"
        },
        "id": "zvh206pQ5suK",
        "outputId": "226a84d1-1c39-45f9-9ba5-80fbbff72711"
      },
      "execution_count": 17,
      "outputs": [
        {
          "output_type": "stream",
          "name": "stdout",
          "text": [
            "USA > NJ > Newark > Jeremy\n",
            "USA > NJ > Newark > Stacey\n",
            "USA > New York > Brooklyn > David\n",
            "USA > New York > Mannhatten > Dan\n",
            "CAN > MO > Sarah\n",
            "CAN > Toronto > Yorkville > Jessi\n",
            "CAN > Toronto > Lib Vill > Sam\n",
            "MEX > Tulum > Elsi\n",
            "MEX > Berlin > AAA > 11\n",
            "MEX > Berlin > BBB > 22\n",
            "MEX > Berlin > CCC > 33\n",
            "MEX > Berlin > CCC > 44\n"
          ]
        }
      ]
    },
    {
      "cell_type": "code",
      "source": [
        "nestedData2 = json.loads(jsonData2)\n",
        "tbl = flattenJson(nestedData2)\n",
        "for x in tbl: \n",
        "    print(x)\n",
        "\n",
        " # TODO: we need a better way to collect person information   "
      ],
      "metadata": {
        "colab": {
          "base_uri": "https://localhost:8080/"
        },
        "id": "Lw9ib8Mv5tjZ",
        "outputId": "9f40f285-dbc9-40d6-8e45-cb58f90e0de6"
      },
      "execution_count": 18,
      "outputs": [
        {
          "output_type": "stream",
          "name": "stdout",
          "text": [
            "Class > ClassA\n",
            "Persons > ID > 11001\n",
            "Persons > Age > 26\n",
            "Persons > Gender > M\n",
            "Persons > Info > Label > Physical\n",
            "Persons > Info > Info > Label > Appearance\n",
            "Persons > Info > Info > Information > Label > eye color\n",
            "Persons > Info > Info > Information > Value > blue\n",
            "Persons > Info > Info > Information > Label > height\n",
            "Persons > Info > Info > Information > unit > cm\n",
            "Persons > Info > Info > Information > Value > 170\n",
            "Persons > Info > Info > Information > Label > has glasses\n",
            "Persons > Info > Info > Information > Value > false\n",
            "Persons > Info > Info > Information > Label > Weight\n",
            "Persons > Info > Info > Information > Information > Date > 1.1.2022\n",
            "Persons > Info > Info > Information > Information > center > center1\n",
            "Persons > Info > Info > Information > Information > unit > kg\n",
            "Persons > Info > Info > Information > Information > Value > 80\n",
            "Persons > Info > Label > Others\n",
            "Persons > Info > Info > Label > Marks\n",
            "Persons > Info > Info > Information > Label > Swimming\n",
            "Persons > Info > Info > Information > Value > 10\n",
            "Persons > Info > Info > Information > Label > Math\n",
            "Persons > Info > Info > Information > Value > 7\n",
            "Persons > Info > Info > Information > Label > Language\n",
            "Persons > Info > Info > Information > Value > 5\n",
            "Persons > ID > 11002\n",
            "Persons > Age > 20\n",
            "Persons > Gender > F\n",
            "Persons > Info > Label > Physical\n",
            "Persons > Info > Info > Label > Appearance\n",
            "Persons > Info > Info > Information > Label > eye color\n",
            "Persons > Info > Info > Information > Value > brown\n",
            "Persons > Info > Info > Information > Label > height\n",
            "Persons > Info > Info > Information > unit > cm\n",
            "Persons > Info > Info > Information > Value > 160\n",
            "Persons > Info > Info > Information > Label > has glasses\n",
            "Persons > Info > Info > Information > Value > true\n",
            "Persons > Info > Label > Others\n",
            "Persons > Info > Info > Label > Marks\n",
            "Persons > Info > Info > Information > Label > Swimming\n",
            "Persons > Info > Info > Information > Value > 7\n",
            "Persons > Info > Info > Information > Label > Math\n",
            "Persons > Info > Info > Information > Value > 10\n",
            "Persons > Info > Info > Information > Label > Language\n",
            "Persons > Info > Info > Information > Value > 9\n",
            "Class > ClassB\n",
            "Persons > ID > 11003\n",
            "Persons > Age > 40\n",
            "Persons > Gender > F\n",
            "Persons > Info > Label > Physical\n",
            "Persons > Info > Info > Label > Appearance\n",
            "Persons > Info > Info > Information > Label > eye color\n",
            "Persons > Info > Info > Information > Value > green\n",
            "Persons > Info > Info > Information > Label > height\n",
            "Persons > Info > Info > Information > unit > cm\n",
            "Persons > Info > Info > Information > Value > 180\n",
            "Persons > Info > Info > Information > Label > has glasses\n",
            "Persons > Info > Info > Information > Value > false\n",
            "Persons > Info > Info > Information > Label > Weight\n",
            "Persons > Info > Info > Information > Information > Date > 1.1.2020\n",
            "Persons > Info > Info > Information > Information > center > center1\n",
            "Persons > Info > Info > Information > Information > unit > kg\n",
            "Persons > Info > Info > Information > Information > Value > 60\n",
            "Persons > Info > Label > Others\n",
            "Persons > Info > Info > Label > Marks\n",
            "Persons > Info > Info > Information > Label > Swimming\n",
            "Persons > Info > Info > Information > Value > 5\n",
            "Persons > Info > Info > Information > Label > Math\n",
            "Persons > Info > Info > Information > Value > 6\n",
            "Persons > Info > Info > Information > Label > Language\n",
            "Persons > Info > Info > Information > Value > 10\n"
          ]
        }
      ]
    },
    {
      "cell_type": "markdown",
      "source": [
        "### Reverse flatting nested data\n",
        "\n",
        "How can w ego from flatten aobject to a nested data?"
      ],
      "metadata": {
        "id": "yuBaegcA8b1F"
      }
    },
    {
      "cell_type": "code",
      "source": [
        "# Try to solve the problem"
      ],
      "metadata": {
        "id": "RHkaZswo8m1N"
      },
      "execution_count": 19,
      "outputs": []
    }
  ]
}